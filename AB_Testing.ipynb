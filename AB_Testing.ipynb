{
  "nbformat": 4,
  "nbformat_minor": 0,
  "metadata": {
    "kernelspec": {
      "display_name": "Python 3",
      "language": "python",
      "name": "python3"
    },
    "language_info": {
      "codemirror_mode": {
        "name": "ipython",
        "version": 3
      },
      "file_extension": ".py",
      "mimetype": "text/x-python",
      "name": "python",
      "nbconvert_exporter": "python",
      "pygments_lexer": "ipython3",
      "version": "3.7.6"
    },
    "colab": {
      "name": "AB_Testing.ipynb",
      "provenance": []
    }
  },
  "cells": [
    {
      "cell_type": "code",
      "metadata": {
        "id": "8jOGi-5zZvn7",
        "colab_type": "code",
        "colab": {
          "base_uri": "https://localhost:8080/",
          "height": 70
        },
        "outputId": "c3f1e5bc-e094-4203-e1bc-f2cf329dd1dd"
      },
      "source": [
        "# import the necessary libraries\n",
        "\n",
        "import numpy as np\n",
        "import pandas as pd\n",
        "import matplotlib.pyplot as plt\n",
        "import seaborn as sns\n",
        "\n",
        "%matplotlib inline \n",
        "%config InlineBackend.figure_format = 'retina'\n",
        "plt.style.use(\"ggplot\")\n",
        "\n"
      ],
      "execution_count": 1,
      "outputs": [
        {
          "output_type": "stream",
          "text": [
            "/usr/local/lib/python3.6/dist-packages/statsmodels/tools/_testing.py:19: FutureWarning: pandas.util.testing is deprecated. Use the functions in the public API at pandas.testing instead.\n",
            "  import pandas.util.testing as tm\n"
          ],
          "name": "stderr"
        }
      ]
    },
    {
      "cell_type": "code",
      "metadata": {
        "id": "dvzqjTTtZvoM",
        "colab_type": "code",
        "colab": {}
      },
      "source": [
        "#upload the dataset\n",
        "data = pd.read_csv(\"https://github.com/muluwork-shegaw/10Acad_week4/blob/master/ABAdRecall.csv?raw=true\",error_bad_lines=False)"
      ],
      "execution_count": 10,
      "outputs": []
    },
    {
      "cell_type": "markdown",
      "metadata": {
        "id": "2kuBOnIXZvoZ",
        "colab_type": "text"
      },
      "source": [
        "### Exploring the dataset"
      ]
    },
    {
      "cell_type": "code",
      "metadata": {
        "collapsed": true,
        "id": "aOXsgTLkZvob",
        "colab_type": "code",
        "colab": {}
      },
      "source": [
        "data.head() # glance  our dataset"
      ],
      "execution_count": null,
      "outputs": []
    },
    {
      "cell_type": "code",
      "metadata": {
        "collapsed": true,
        "id": "KQ-JC7LJZvoq",
        "colab_type": "code",
        "colab": {}
      },
      "source": [
        "data.describe() #description of the dataset"
      ],
      "execution_count": null,
      "outputs": []
    },
    {
      "cell_type": "code",
      "metadata": {
        "collapsed": true,
        "id": "PDXcD1UiZvo2",
        "colab_type": "code",
        "colab": {
          "base_uri": "https://localhost:8080/",
          "height": 34
        },
        "outputId": "3de14eea-0ffa-40df-acef-28d83a08ae0f"
      },
      "source": [
        "print('This dataset has '+str(data.shape[0])+' rows, and '\n",
        "                         +str(data.shape[1])+ ' columns')\n"
      ],
      "execution_count": 13,
      "outputs": [
        {
          "output_type": "stream",
          "text": [
            "This dataset has 8077 rows, and 9 columns\n"
          ],
          "name": "stdout"
        }
      ]
    },
    {
      "cell_type": "code",
      "metadata": {
        "collapsed": true,
        "id": "WOGHwVgnZvpC",
        "colab_type": "code",
        "colab": {}
      },
      "source": [
        "data.info() #summery\n",
        "# This shows us the different data types and number of non-null values in\n",
        "#each columns"
      ],
      "execution_count": null,
      "outputs": []
    },
    {
      "cell_type": "markdown",
      "metadata": {
        "id": "QI1CBP-NZvpf",
        "colab_type": "text"
      },
      "source": [
        " **NB :**\n",
        "- As we can show in the summery ,we have totally 8077 data and there is no null values."
      ]
    },
    {
      "cell_type": "code",
      "metadata": {
        "collapsed": true,
        "id": "OtgvRKtrZvpi",
        "colab_type": "code",
        "colab": {}
      },
      "source": [
        "data.nunique().sort_values(ascending=False) # number of unique  values in each vriable"
      ],
      "execution_count": null,
      "outputs": []
    },
    {
      "cell_type": "code",
      "metadata": {
        "id": "dNxTCy4QZvpx",
        "colab_type": "code",
        "colab": {
          "base_uri": "https://localhost:8080/",
          "height": 34
        },
        "outputId": "6fe5c767-4b8b-4eef-d755-f618f3501ec5"
      },
      "source": [
        "sample_data = data[np.logical_or(data['yes']==1,data['no']==1)]\n",
        "sample_data.shape # the data which contain who has  animpression to answer for "
      ],
      "execution_count": 16,
      "outputs": [
        {
          "output_type": "execute_result",
          "data": {
            "text/plain": [
              "(1243, 9)"
            ]
          },
          "metadata": {
            "tags": []
          },
          "execution_count": 16
        }
      ]
    },
    {
      "cell_type": "markdown",
      "metadata": {
        "id": "xTBLswaeZvp9",
        "colab_type": "text"
      },
      "source": [
        " **NB :**\n",
        "- the data which contain who has an impression to answer for BIO questionarie and they actually reply as \"yes\" or \"no\""
      ]
    },
    {
      "cell_type": "markdown",
      "metadata": {
        "id": "-vWW1-LuZvp_",
        "colab_type": "text"
      },
      "source": [
        "### Overview"
      ]
    },
    {
      "cell_type": "code",
      "metadata": {
        "scrolled": true,
        "id": "CNgzQrOIZvqB",
        "colab_type": "code",
        "colab": {}
      },
      "source": [
        "# plot multiple his in one graph\n",
        "def multple_hist(data,bins,legend,color):\n",
        "    for i in range(len(data)):\n",
        "        plt.hist(data[i], bins, color=color[i], alpha=0.5)\n",
        "        plt.legend(legend)\n",
        "    plt.show()"
      ],
      "execution_count": 17,
      "outputs": []
    },
    {
      "cell_type": "code",
      "metadata": {
        "id": "pZrEq6HJZvqM",
        "colab_type": "code",
        "colab": {
          "base_uri": "https://localhost:8080/",
          "height": 265
        },
        "outputId": "12d771d8-61fc-413b-a259-94e8c5a63851"
      },
      "source": [
        "this_data = sample_data[['experiment','yes','no']]\n",
        "exposed = this_data[this_data[\"experiment\"] == \"exposed\"]\n",
        "control = this_data[this_data[\"experiment\"] == \"control\"]\n",
        "\n",
        "datas = [exposed[exposed['yes']==1]['yes'],exposed[exposed['yes']==0]['yes'],\n",
        "         control[control['yes']==1]['yes'],control[control['yes']==0]['yes']]\n",
        "\n",
        "legend = [\"#yes in exposed-group\",\"#no in exposed-group\",\n",
        "          \"#yes in control-group\",\"#no in control-group\"]\n",
        "bins = np.linspace(-1, 4, 10)\n",
        "color=[\"green\",\"red\",\"orange\",\"blue\"]\n",
        "\n",
        "multple_hist(datas,bins,legend,color)"
      ],
      "execution_count": 18,
      "outputs": [
        {
          "output_type": "display_data",
          "data": {
            "image/png": "[encoded data removed]",
            "text/plain": [
              "<Figure size 432x288 with 1 Axes>"
            ]
          },
          "metadata": {
            "tags": [],
            "image/png": {
              "width": 375,
              "height": 248
            },
            "needs_background": "light"
          }
        }
      ]
    },
    {
      "cell_type": "markdown",
      "metadata": {
        "id": "bWyyOBvAZvqX",
        "colab_type": "text"
      },
      "source": [
        "**NB:**\n",
        "- The above figure shows us the distribution of the answers of the BIO(brand impact optimizer) for the users who are under the exposed and control group. \n",
        "\n",
        "- when we see histogram the count of yes is less than count no, which means most users don't know the brand smartAd.\n",
        "\n",
        "**But when we compare the count of #yes in exposed and in control group ,the exposed group more know the brand smartAd than control group.** \n",
        "- #yes in exposed group is between  300 and 350\n",
        "- #yes in control group is between  250 and 300\n"
      ]
    },
    {
      "cell_type": "markdown",
      "metadata": {
        "id": "_o_1Npz1Zvqb",
        "colab_type": "text"
      },
      "source": [
        "## Task 2: Analysis \n",
        "#### Task 2.1 : Classic and sequential A/B testing analysis\n"
      ]
    },
    {
      "cell_type": "markdown",
      "metadata": {
        "id": "OmaBwgX1Zvqd",
        "colab_type": "text"
      },
      "source": [
        "- Perform hypothesis testing: apply the classical p-value based algorithm and the  sequential A/B testing algorithm for which a starter code is provided.."
      ]
    },
    {
      "cell_type": "code",
      "metadata": {
        "id": "UAObZ-o3Zvqf",
        "colab_type": "code",
        "colab": {}
      },
      "source": [
        ""
      ],
      "execution_count": null,
      "outputs": []
    }
  ]
}